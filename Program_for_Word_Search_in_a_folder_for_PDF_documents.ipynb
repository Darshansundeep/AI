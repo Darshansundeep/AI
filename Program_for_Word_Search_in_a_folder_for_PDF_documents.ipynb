{
  "nbformat": 4,
  "nbformat_minor": 0,
  "metadata": {
    "colab": {
      "provenance": [],
      "mount_file_id": "1bM09rYLwz2qNryhhzeFGH5ZQtEOoNisi",
      "authorship_tag": "ABX9TyOWiePxI9oYfms0TztV2yqu",
      "include_colab_link": true
    },
    "kernelspec": {
      "name": "python3",
      "display_name": "Python 3"
    },
    "language_info": {
      "name": "python"
    }
  },
  "cells": [
    {
      "cell_type": "markdown",
      "metadata": {
        "id": "view-in-github",
        "colab_type": "text"
      },
      "source": [
        "<a href=\"https://colab.research.google.com/github/Darshansundeep/AI/blob/main/Program_for_Word_Search_in_a_folder_for_PDF_documents.ipynb\" target=\"_parent\"><img src=\"https://colab.research.google.com/assets/colab-badge.svg\" alt=\"Open In Colab\"/></a>"
      ]
    },
    {
      "cell_type": "code",
      "execution_count": null,
      "metadata": {
        "id": "-TKWDHCMsMWK"
      },
      "outputs": [],
      "source": [
        "\n",
        "!pip install nltk\n",
        "!pip install PyPDF2"
      ]
    },
    {
      "cell_type": "code",
      "source": [
        "from PyPDF2 import PdfReader\n",
        "import nltk\n",
        "from collections import Counter\n",
        "from nltk.tokenize import word_tokenize\n",
        "from nltk.corpus import stopwords\n",
        "import string\n",
        "import os\n"
      ],
      "metadata": {
        "id": "45MvZWqksRF3"
      },
      "execution_count": 7,
      "outputs": []
    },
    {
      "cell_type": "code",
      "source": [
        "nltk.download('punkt')\n",
        "nltk.download('stopwords')\n",
        "\n",
        "def count_words(text):\n",
        "    tokens = word_tokenize(text)\n",
        "    words = [word.lower() for word in tokens if word.isalpha()]\n",
        "    return len(words)\n",
        "\n",
        "def get_topics(text, num_topics=5):\n",
        "    tokens = word_tokenize(text)\n",
        "    words = [word.lower() for word in tokens if word.isalpha()]\n",
        "    stop_words = set(stopwords.words('english'))\n",
        "    filtered_words = [word for word in words if word not in stop_words and word not in string.punctuation]\n",
        "    counted_words = Counter(filtered_words)\n",
        "    return counted_words.most_common(num_topics)\n",
        "\n",
        "from PyPDF2 import PdfReader\n",
        "\n",
        "def analyze_pdf(file_path):\n",
        "    with open(file_path, 'rb') as file:\n",
        "        reader = PdfReader(file)\n",
        "        num_pages = len(reader.pages)\n",
        "        total_words = 0\n",
        "        all_text = \"\"\n",
        "\n",
        "        for page in reader.pages:\n",
        "            text = page.extract_text()\n",
        "            all_text += text\n",
        "            total_words += count_words(text)\n",
        "\n",
        "        topics = get_topics(all_text)\n",
        "\n",
        "        print(f\"File Name: {file_path}\")\n",
        "        print(f\"Number of Pages: {num_pages}\")\n",
        "        print(f\"Total Word Count: {total_words}\")\n",
        "        print(f\"Topics (approx.): {topics}\")\n",
        "\n",
        "def search_in_pdf(file_path, search_text):\n",
        "    count = 0\n",
        "    with open(file_path, 'rb') as file:\n",
        "        reader = PdfReader(file)\n",
        "        for page_num, page in enumerate(reader.pages):\n",
        "            text = page.extract_text()\n",
        "            count += text.lower().count(search_text.lower())\n",
        "    return count\n",
        "\n",
        "\n",
        "def analyze_folder(folder_path):\n",
        "    pdf_files = [f for f in os.listdir(folder_path) if f.endswith('.pdf')]\n",
        "    num_pdf_files = len(pdf_files)\n",
        "\n",
        "    print(f\"Number of PDF documents in the folder: {num_pdf_files}\")\n",
        "\n",
        "    for file_name in pdf_files:\n",
        "        file_path = os.path.join(folder_path, file_name)\n",
        "        print(f\"\\nAnalyzing file: {file_name}\")\n",
        "        analyze_pdf(file_path)\n",
        "\n",
        "    while True:\n",
        "        search_text = input(\"\\nEnter your search query (word or sentence), or type 'exit' to quit: \")\n",
        "        if search_text.lower() == 'exit':\n",
        "            break\n",
        "\n",
        "        for file_name in pdf_files:\n",
        "            file_path = os.path.join(folder_path, file_name)\n",
        "            count = search_in_pdf(file_path, search_text)\n",
        "            if count > 0:\n",
        "                print(f\"'{search_text}' found {count} times in file: {file_name}\")\n",
        "\n",
        "\n",
        "# Example usage\n",
        "folder_path = '/provide your folder path'\n",
        "analyze_folder(folder_path)"
      ],
      "metadata": {
        "id": "qSXORJGetj3z"
      },
      "execution_count": null,
      "outputs": []
    }
  ]
}