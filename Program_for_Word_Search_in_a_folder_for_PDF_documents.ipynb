{
  "nbformat": 4,
  "nbformat_minor": 0,
  "metadata": {
    "colab": {
      "provenance": [],
      "mount_file_id": "1bM09rYLwz2qNryhhzeFGH5ZQtEOoNisi",
      "authorship_tag": "ABX9TyO4RCAPWUnrNnWvJHcLfDtB",
      "include_colab_link": true
    },
    "kernelspec": {
      "name": "python3",
      "display_name": "Python 3"
    },
    "language_info": {
      "name": "python"
    }
  },
  "cells": [
    {
      "cell_type": "markdown",
      "metadata": {
        "id": "view-in-github",
        "colab_type": "text"
      },
      "source": [
        "<a href=\"https://colab.research.google.com/github/Darshansundeep/AI/blob/main/Program_for_Word_Search_in_a_folder_for_PDF_documents.ipynb\" target=\"_parent\"><img src=\"https://colab.research.google.com/assets/colab-badge.svg\" alt=\"Open In Colab\"/></a>"
      ]
    },
    {
      "cell_type": "code",
      "execution_count": 1,
      "metadata": {
        "colab": {
          "base_uri": "https://localhost:8080/"
        },
        "id": "-TKWDHCMsMWK",
        "outputId": "fb57882c-4adb-418f-9a85-371526eab55d"
      },
      "outputs": [
        {
          "output_type": "stream",
          "name": "stdout",
          "text": [
            "Requirement already satisfied: nltk in /usr/local/lib/python3.10/dist-packages (3.8.1)\n",
            "Requirement already satisfied: click in /usr/local/lib/python3.10/dist-packages (from nltk) (8.1.7)\n",
            "Requirement already satisfied: joblib in /usr/local/lib/python3.10/dist-packages (from nltk) (1.3.2)\n",
            "Requirement already satisfied: regex>=2021.8.3 in /usr/local/lib/python3.10/dist-packages (from nltk) (2023.6.3)\n",
            "Requirement already satisfied: tqdm in /usr/local/lib/python3.10/dist-packages (from nltk) (4.66.1)\n",
            "Collecting PyPDF2\n",
            "  Downloading pypdf2-3.0.1-py3-none-any.whl (232 kB)\n",
            "\u001b[2K     \u001b[90m━━━━━━━━━━━━━━━━━━━━━━━━━━━━━━━━━━━━━━━━\u001b[0m \u001b[32m232.6/232.6 kB\u001b[0m \u001b[31m4.8 MB/s\u001b[0m eta \u001b[36m0:00:00\u001b[0m\n",
            "\u001b[?25hInstalling collected packages: PyPDF2\n",
            "Successfully installed PyPDF2-3.0.1\n"
          ]
        }
      ],
      "source": [
        "\n",
        "!pip install nltk\n",
        "!pip install PyPDF2"
      ]
    },
    {
      "cell_type": "code",
      "source": [
        "from PyPDF2 import PdfReader\n",
        "import nltk\n",
        "from collections import Counter\n",
        "from nltk.tokenize import word_tokenize\n",
        "from nltk.corpus import stopwords\n",
        "import string\n",
        "import os\n"
      ],
      "metadata": {
        "id": "45MvZWqksRF3"
      },
      "execution_count": 7,
      "outputs": []
    },
    {
      "cell_type": "code",
      "source": [
        "nltk.download('punkt')\n",
        "nltk.download('stopwords')\n",
        "\n",
        "def count_words(text):\n",
        "    tokens = word_tokenize(text)\n",
        "    words = [word.lower() for word in tokens if word.isalpha()]\n",
        "    return len(words)\n",
        "\n",
        "def get_topics(text, num_topics=5):\n",
        "    tokens = word_tokenize(text)\n",
        "    words = [word.lower() for word in tokens if word.isalpha()]\n",
        "    stop_words = set(stopwords.words('english'))\n",
        "    filtered_words = [word for word in words if word not in stop_words and word not in string.punctuation]\n",
        "    counted_words = Counter(filtered_words)\n",
        "    return counted_words.most_common(num_topics)\n",
        "\n",
        "from PyPDF2 import PdfReader\n",
        "\n",
        "def analyze_pdf(file_path):\n",
        "    with open(file_path, 'rb') as file:\n",
        "        reader = PdfReader(file)\n",
        "        num_pages = len(reader.pages)\n",
        "        total_words = 0\n",
        "        all_text = \"\"\n",
        "\n",
        "        for page in reader.pages:\n",
        "            text = page.extract_text()\n",
        "            all_text += text\n",
        "            total_words += count_words(text)\n",
        "\n",
        "        topics = get_topics(all_text)\n",
        "\n",
        "        print(f\"File Name: {file_path}\")\n",
        "        print(f\"Number of Pages: {num_pages}\")\n",
        "        print(f\"Total Word Count: {total_words}\")\n",
        "        print(f\"Topics (approx.): {topics}\")\n",
        "\n",
        "def search_in_pdf(file_path, search_text):\n",
        "    count = 0\n",
        "    with open(file_path, 'rb') as file:\n",
        "        reader = PdfReader(file)\n",
        "        for page_num, page in enumerate(reader.pages):\n",
        "            text = page.extract_text()\n",
        "            count += text.lower().count(search_text.lower())\n",
        "    return count\n",
        "\n",
        "\n",
        "def analyze_folder(folder_path):\n",
        "    pdf_files = [f for f in os.listdir(folder_path) if f.endswith('.pdf')]\n",
        "    num_pdf_files = len(pdf_files)\n",
        "\n",
        "    print(f\"Number of PDF documents in the folder: {num_pdf_files}\")\n",
        "\n",
        "    for file_name in pdf_files:\n",
        "        file_path = os.path.join(folder_path, file_name)\n",
        "        print(f\"\\nAnalyzing file: {file_name}\")\n",
        "        analyze_pdf(file_path)\n",
        "\n",
        "    while True:\n",
        "        search_text = input(\"\\nEnter your search query (word or sentence), or type 'exit' to quit: \")\n",
        "        if search_text.lower() == 'exit':\n",
        "            break\n",
        "\n",
        "        for file_name in pdf_files:\n",
        "            file_path = os.path.join(folder_path, file_name)\n",
        "            count = search_in_pdf(file_path, search_text)\n",
        "            if count > 0:\n",
        "                print(f\"'{search_text}' found {count} times in file: {file_name}\")\n",
        "\n",
        "\n",
        "# Example usage\n",
        "folder_path = '/content/drive/MyDrive/Files'\n",
        "analyze_folder(folder_path)"
      ],
      "metadata": {
        "colab": {
          "base_uri": "https://localhost:8080/"
        },
        "id": "qSXORJGetj3z",
        "outputId": "6c840d66-c559-468b-9a0e-40bcc78c6ae0"
      },
      "execution_count": null,
      "outputs": [
        {
          "output_type": "stream",
          "name": "stderr",
          "text": [
            "[nltk_data] Downloading package punkt to /root/nltk_data...\n",
            "[nltk_data]   Package punkt is already up-to-date!\n",
            "[nltk_data] Downloading package stopwords to /root/nltk_data...\n",
            "[nltk_data]   Package stopwords is already up-to-date!\n"
          ]
        },
        {
          "output_type": "stream",
          "name": "stdout",
          "text": [
            "Number of PDF documents in the folder: 2\n",
            "\n",
            "Analyzing file: Bose Soundbar.pdf\n",
            "File Name: /content/drive/MyDrive/Files/Bose Soundbar.pdf\n",
            "Number of Pages: 64\n",
            "Total Word Count: 9294\n",
            "Topics (approx.): [('soundbar', 203), ('bose', 156), ('music', 99), ('app', 87), ('device', 85)]\n",
            "\n",
            "Analyzing file: Malibu Owner's Manual.pdf\n",
            "File Name: /content/drive/MyDrive/Files/Malibu Owner's Manual.pdf\n",
            "Number of Pages: 419\n",
            "Total Word Count: 110953\n",
            "Topics (approx.): [('vehicle', 1910), ('system', 1048), ('see', 734), ('e', 609), ('engine', 601)]\n",
            "\n",
            "Enter your search query (word or sentence), or type 'exit' to quit: BLUETOOTH\n",
            "'BLUETOOTH' found 56 times in file: Bose Soundbar.pdf\n",
            "'BLUETOOTH' found 190 times in file: Malibu Owner's Manual.pdf\n",
            "\n",
            "Enter your search query (word or sentence), or type 'exit' to quit: CRUISE\n",
            "'CRUISE' found 119 times in file: Malibu Owner's Manual.pdf\n"
          ]
        }
      ]
    }
  ]
}